{
 "cells": [
  {
   "cell_type": "code",
   "execution_count": 1,
   "id": "743a63c0",
   "metadata": {},
   "outputs": [],
   "source": [
    "import json"
   ]
  },
  {
   "cell_type": "code",
   "execution_count": 2,
   "id": "8ee2e889",
   "metadata": {},
   "outputs": [],
   "source": [
    "# JSON input from lesson_progress table in the DB\n",
    "json_input = '{ \"at_score\": \"-1\", \"datamodel\": { \"cmi\": { \"core\": { \"course_id\": \"75001\", \"student_id\": 9, \"student_name\": \"student6@email.com\", \"lesson_location\": \"l0e11\" }, \"objectives\": { \"count\": 8, \"items\": [ { \"id\": 11, \"type\": \"MT1\", \"status\": \"failed\", \"reading\": true, \"writing\": false, \"speaking\": false, \"listening\": false, \"score_raw\": 0, \"items_order_info\": \"Activity 1\" }, { \"id\": 2, \"type\": \"TYP\", \"status\": \"not passed\", \"reading\": true, \"writing\": true, \"speaking\": false, \"listening\": true, \"score_raw\": 0, \"items_order_info\": \"Activity 2\" }, { \"id\": 3, \"type\": \"SR1\", \"status\": \"not passed\", \"reading\": true, \"writing\": false, \"speaking\": true, \"listening\": true, \"score_raw\": 0, \"items_order_info\": \"Activity 3\" }, { \"id\": 4, \"type\": \"DMC\", \"status\": \"not passed\", \"reading\": true, \"writing\": false, \"speaking\": false, \"listening\": true, \"score_raw\": 0, \"items_order_info\": \"Quiz\" }, { \"id\": 5, \"type\": \"MMM\", \"status\": \"not passed\", \"reading\": true, \"writing\": false, \"speaking\": false, \"listening\": false, \"score_raw\": 0, \"items_order_info\": \"Quiz\" }, { \"id\": 6, \"type\": \"MRW\", \"status\": \"not passed\", \"reading\": true, \"writing\": false, \"speaking\": false, \"listening\": false, \"score_raw\": 0, \"items_order_info\": \"Quiz\" }, { \"id\": 7, \"type\": \"DMC\", \"status\": \"not passed\", \"reading\": true, \"writing\": false, \"speaking\": false, \"listening\": false, \"score_raw\": 0, \"items_order_info\": \"Quiz\" }, { \"id\": 8, \"type\": \"TYP\", \"status\": \"not passed\", \"reading\": true, \"writing\": true, \"speaking\": false, \"listening\": true, \"score_raw\": 0, \"items_order_info\": \"Quiz\" } ] } } }, \"responses\": \"l0e1q0r1,\", \"quiz_score\": \"-1\", \"time_spent\": \"105.231\", \"cwd_progress\": \"\", \"giw_progress\": \"\", \"gwr_progress\": \"\", \"hng_progress\": \"\", \"kar_progress\": \"\", \"last_attempt\": \"2018-6-8\", \"mch_progress\": { \"attempts\": [ ], \"responses\": [ ] }, \"oed_progress\": \"\", \"spk_progress\": \"\", \"ttt_progress\": \"\", \"typ_progress\": \"\", \"reading_score\": \"11\", \"writing_score\": \"0\", \"group_location\": \"2\", \"restore_states\": \"l0e1\", \"speaking_score\": \"0\", \"listening_score\": \"20\", \"shown_pre_screen\": \"l0e0p0,l0e1p0,l0e2p0,l0e3p0,l0e4p0,l0e5p0,l0e6p0,l0e7p0,l0e8p0,l0e9p0,l0e10p0,l0e11p0\", \"dragdrop_progress\": \",l0e11q2r0|q1,l0e11q4r0|q5,l0e11q3r0|q0,l0e11q0r0|q3,l0e11q1r0|q2,l0e11q5r0|q4\", \"exercise_attempts\": \"l0e0a0,l0e1a2,l0e2a0,l0e3a0,l0e4a0,l0e5a0,l0e6a0,l0e7a0,l0e8a0,l0e9a0,l0e10a0,l0e11a0\", \"rec_dragdrop_progress\": \"\", \"feedback_showing_answer\": \"l0e1\", \"group_selected_exercise\": \"g0e0,g1e0,g2e0,g3e0,g4e0,g5e0,g6e0\" }'"
   ]
  },
  {
   "cell_type": "code",
   "execution_count": 3,
   "id": "acdaa97a",
   "metadata": {},
   "outputs": [],
   "source": [
    "json_input = json.loads(json_input)"
   ]
  },
  {
   "cell_type": "code",
   "execution_count": 4,
   "id": "a1f58682",
   "metadata": {},
   "outputs": [],
   "source": [
    "course_id = json_input['datamodel']['cmi']['core']['course_id']\n",
    "student_id = json_input['datamodel']['cmi']['core']['student_id']"
   ]
  },
  {
   "cell_type": "code",
   "execution_count": 5,
   "id": "5ed53b2c",
   "metadata": {},
   "outputs": [],
   "source": [
    "items = json_input['datamodel']['cmi']['objectives']['items']"
   ]
  },
  {
   "cell_type": "code",
   "execution_count": 6,
   "id": "30d5cb93",
   "metadata": {},
   "outputs": [],
   "source": [
    "dataframe_list = []\n",
    "for item in items:\n",
    "    # Extracting certain columns and making a dataframe\n",
    "    data_list = [course_id, student_id, item['type'], item['status'], item['listening'], item['reading'], item['writing'], item['speaking']]\n",
    "    dataframe_list.append(data_list)"
   ]
  },
  {
   "cell_type": "code",
   "execution_count": 7,
   "id": "e1fd90f1",
   "metadata": {},
   "outputs": [],
   "source": [
    "columns = ['course_id', 'student_id', 'type', 'status', 'listening', 'reading', 'writing', 'speaking']"
   ]
  },
  {
   "cell_type": "code",
   "execution_count": 8,
   "id": "fdaae947",
   "metadata": {},
   "outputs": [
    {
     "data": {
      "text/html": [
       "<div>\n",
       "<style scoped>\n",
       "    .dataframe tbody tr th:only-of-type {\n",
       "        vertical-align: middle;\n",
       "    }\n",
       "\n",
       "    .dataframe tbody tr th {\n",
       "        vertical-align: top;\n",
       "    }\n",
       "\n",
       "    .dataframe thead th {\n",
       "        text-align: right;\n",
       "    }\n",
       "</style>\n",
       "<table border=\"1\" class=\"dataframe\">\n",
       "  <thead>\n",
       "    <tr style=\"text-align: right;\">\n",
       "      <th></th>\n",
       "      <th>course_id</th>\n",
       "      <th>student_id</th>\n",
       "      <th>type</th>\n",
       "      <th>status</th>\n",
       "      <th>listening</th>\n",
       "      <th>reading</th>\n",
       "      <th>writing</th>\n",
       "      <th>speaking</th>\n",
       "    </tr>\n",
       "  </thead>\n",
       "  <tbody>\n",
       "    <tr>\n",
       "      <th>0</th>\n",
       "      <td>75001</td>\n",
       "      <td>9</td>\n",
       "      <td>MT1</td>\n",
       "      <td>failed</td>\n",
       "      <td>False</td>\n",
       "      <td>True</td>\n",
       "      <td>False</td>\n",
       "      <td>False</td>\n",
       "    </tr>\n",
       "    <tr>\n",
       "      <th>1</th>\n",
       "      <td>75001</td>\n",
       "      <td>9</td>\n",
       "      <td>TYP</td>\n",
       "      <td>not passed</td>\n",
       "      <td>True</td>\n",
       "      <td>True</td>\n",
       "      <td>True</td>\n",
       "      <td>False</td>\n",
       "    </tr>\n",
       "    <tr>\n",
       "      <th>2</th>\n",
       "      <td>75001</td>\n",
       "      <td>9</td>\n",
       "      <td>SR1</td>\n",
       "      <td>not passed</td>\n",
       "      <td>True</td>\n",
       "      <td>True</td>\n",
       "      <td>False</td>\n",
       "      <td>True</td>\n",
       "    </tr>\n",
       "    <tr>\n",
       "      <th>3</th>\n",
       "      <td>75001</td>\n",
       "      <td>9</td>\n",
       "      <td>DMC</td>\n",
       "      <td>not passed</td>\n",
       "      <td>True</td>\n",
       "      <td>True</td>\n",
       "      <td>False</td>\n",
       "      <td>False</td>\n",
       "    </tr>\n",
       "    <tr>\n",
       "      <th>4</th>\n",
       "      <td>75001</td>\n",
       "      <td>9</td>\n",
       "      <td>MMM</td>\n",
       "      <td>not passed</td>\n",
       "      <td>False</td>\n",
       "      <td>True</td>\n",
       "      <td>False</td>\n",
       "      <td>False</td>\n",
       "    </tr>\n",
       "    <tr>\n",
       "      <th>5</th>\n",
       "      <td>75001</td>\n",
       "      <td>9</td>\n",
       "      <td>MRW</td>\n",
       "      <td>not passed</td>\n",
       "      <td>False</td>\n",
       "      <td>True</td>\n",
       "      <td>False</td>\n",
       "      <td>False</td>\n",
       "    </tr>\n",
       "    <tr>\n",
       "      <th>6</th>\n",
       "      <td>75001</td>\n",
       "      <td>9</td>\n",
       "      <td>DMC</td>\n",
       "      <td>not passed</td>\n",
       "      <td>False</td>\n",
       "      <td>True</td>\n",
       "      <td>False</td>\n",
       "      <td>False</td>\n",
       "    </tr>\n",
       "    <tr>\n",
       "      <th>7</th>\n",
       "      <td>75001</td>\n",
       "      <td>9</td>\n",
       "      <td>TYP</td>\n",
       "      <td>not passed</td>\n",
       "      <td>True</td>\n",
       "      <td>True</td>\n",
       "      <td>True</td>\n",
       "      <td>False</td>\n",
       "    </tr>\n",
       "  </tbody>\n",
       "</table>\n",
       "</div>"
      ],
      "text/plain": [
       "  course_id  student_id type      status  listening  reading  writing  \\\n",
       "0     75001           9  MT1      failed      False     True    False   \n",
       "1     75001           9  TYP  not passed       True     True     True   \n",
       "2     75001           9  SR1  not passed       True     True    False   \n",
       "3     75001           9  DMC  not passed       True     True    False   \n",
       "4     75001           9  MMM  not passed      False     True    False   \n",
       "5     75001           9  MRW  not passed      False     True    False   \n",
       "6     75001           9  DMC  not passed      False     True    False   \n",
       "7     75001           9  TYP  not passed       True     True     True   \n",
       "\n",
       "   speaking  \n",
       "0     False  \n",
       "1     False  \n",
       "2      True  \n",
       "3     False  \n",
       "4     False  \n",
       "5     False  \n",
       "6     False  \n",
       "7     False  "
      ]
     },
     "execution_count": 8,
     "metadata": {},
     "output_type": "execute_result"
    }
   ],
   "source": [
    "import pandas as pd\n",
    "df = pd.DataFrame(dataframe_list, columns=columns)\n",
    "df"
   ]
  }
 ],
 "metadata": {
  "kernelspec": {
   "display_name": "Python 3 (ipykernel)",
   "language": "python",
   "name": "python3"
  },
  "language_info": {
   "codemirror_mode": {
    "name": "ipython",
    "version": 3
   },
   "file_extension": ".py",
   "mimetype": "text/x-python",
   "name": "python",
   "nbconvert_exporter": "python",
   "pygments_lexer": "ipython3",
   "version": "3.10.7"
  }
 },
 "nbformat": 4,
 "nbformat_minor": 5
}
